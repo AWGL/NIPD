{
 "cells": [
  {
   "cell_type": "code",
   "execution_count": 1,
   "metadata": {},
   "outputs": [],
   "source": [
    "from NIPDToolkit.xlinked_analysis import XLinkedAnalyser\n",
    "from NIPDToolkit.autosomal_analysis import AutosomalAnalyser"
   ]
  },
  {
   "cell_type": "code",
   "execution_count": 2,
   "metadata": {},
   "outputs": [],
   "source": [
    "family_csv = '/Users/josephhalstead/Documents/NIPD/181129_NB551415_0005_AHWW37BGX7/family_csvs/181129_NB551415_0005_AHWW37BGX7_all_chr_qfiltered_anno_selected_FAM001.csv'\n",
    "\n",
    "maternal_sample = '14M01888'\n",
    "proband_sample = '14M02709'\n",
    "plasma_sample = 'F1-15'\n",
    "\n",
    "gene = 'F8'\n",
    "\n",
    "min_genotype_depth = 30\n",
    "min_distance_between_snps = 200\n",
    "min_snps_per_block = 25"
   ]
  },
  {
   "cell_type": "code",
   "execution_count": 3,
   "metadata": {},
   "outputs": [],
   "source": [
    "my_x_linked_analyser = XLinkedAnalyser(family_csv=family_csv,\n",
    "                                      maternal_sample= maternal_sample,\n",
    "                                      proband_sample= proband_sample,\n",
    "                                      plasma_sample=plasma_sample,\n",
    "                                      gene=gene)"
   ]
  },
  {
   "cell_type": "code",
   "execution_count": 4,
   "metadata": {},
   "outputs": [],
   "source": [
    "my_x_linked_analyser.run_analysis()"
   ]
  },
  {
   "cell_type": "code",
   "execution_count": 5,
   "metadata": {},
   "outputs": [
    {
     "data": {
      "text/plain": [
       "[[0, 148338598, 148685623, 25, 'hapA', 'X', 'F8'],\n",
       " [1, 148685623, 149490984, 25, 'hapA', 'X', 'F8'],\n",
       " [2, 149490984, 149644030, 25, 'hapA', 'X', 'F8'],\n",
       " [3, 149644030, 150197118, 25, 'hapA', 'X', 'F8'],\n",
       " [4, 150197118, 150261734, 25, 'hapA', 'X', 'F8'],\n",
       " [5, 150261734, 150351783, 25, 'hapA', 'X', 'F8'],\n",
       " [6, 150351783, 150439608, 25, 'hapA', 'X', 'F8'],\n",
       " [7, 150439608, 150497850, 25, 'hapA', 'X', 'F8'],\n",
       " [8, 150497850, 150929566, 25, 'hapA', 'X', 'F8'],\n",
       " [9, 150929566, 150998498, 25, 'hapA', 'X', 'F8'],\n",
       " [10, 150998498, 151090219, 25, 'hapA', 'X', 'F8'],\n",
       " [11, 151090219, 151243277, 25, 'hapA', 'X', 'F8'],\n",
       " [12, 151243277, 151370339, 25, 'hapA', 'X', 'F8'],\n",
       " [13, 151370339, 152099691, 25, 'hapA', 'X', 'F8'],\n",
       " [14, 152099691, 152173319, 25, 'hapA', 'X', 'F8'],\n",
       " [15, 152173319, 152587423, 25, 'hapA', 'X', 'F8'],\n",
       " [16, 152587423, 152675931, 25, 'hapA', 'X', 'F8'],\n",
       " [17, 152675931, 152757163, 25, 'hapA', 'X', 'F8'],\n",
       " [18, 152757163, 152932194, 25, 'hapA', 'X', 'F8'],\n",
       " [19, 152932194, 153090060, 25, 'hapA', 'X', 'F8']]"
      ]
     },
     "execution_count": 5,
     "metadata": {},
     "output_type": "execute_result"
    }
   ],
   "source": [
    "my_x_linked_analyser.xlinked_df_fwd_haplotype_blocks"
   ]
  },
  {
   "cell_type": "code",
   "execution_count": 6,
   "metadata": {},
   "outputs": [
    {
     "data": {
      "text/plain": [
       "[[0, 153828373, 153061775, 25, 'hapA', 'X', 'F8'],\n",
       " [1, 153061775, 152791586, 25, 'hapA', 'X', 'F8'],\n",
       " [2, 152791586, 152724968, 25, 'hapA', 'X', 'F8'],\n",
       " [3, 152724968, 152610737, 25, 'hapA', 'X', 'F8'],\n",
       " [4, 152610737, 152197812, 25, 'hapA', 'X', 'F8'],\n",
       " [5, 152197812, 152147506, 25, 'hapA', 'X', 'F8'],\n",
       " [6, 152147506, 151457918, 25, 'hapA', 'X', 'F8'],\n",
       " [7, 151457918, 151332851, 25, 'hapA', 'X', 'F8'],\n",
       " [8, 151332851, 151141840, 25, 'hapA', 'X', 'F8'],\n",
       " [9, 151141840, 151067372, 25, 'hapA', 'X', 'F8'],\n",
       " [10, 151067372, 150961434, 25, 'hapA', 'X', 'F8'],\n",
       " [11, 150961434, 150894368, 25, 'hapA', 'X', 'F8'],\n",
       " [12, 150894368, 150476277, 25, 'hapA', 'X', 'F8'],\n",
       " [13, 150476277, 150400323, 25, 'hapA', 'X', 'F8'],\n",
       " [14, 150400323, 150317655, 25, 'hapA', 'X', 'F8'],\n",
       " [15, 150317655, 150240321, 25, 'hapA', 'X', 'F8'],\n",
       " [16, 150240321, 150088786, 25, 'hapA', 'X', 'F8'],\n",
       " [17, 150088786, 149554263, 25, 'hapA', 'X', 'F8'],\n",
       " [18, 149554263, 149467016, 25, 'hapA', 'X', 'F8'],\n",
       " [19, 149467016, 148544997, 25, 'hapA', 'X', 'F8']]"
      ]
     },
     "execution_count": 6,
     "metadata": {},
     "output_type": "execute_result"
    }
   ],
   "source": [
    "my_x_linked_analyser.xlinked_df_rev_haplotype_blocks"
   ]
  },
  {
   "cell_type": "code",
   "execution_count": 15,
   "metadata": {},
   "outputs": [
    {
     "data": {
      "text/plain": [
       "945.5092493774457"
      ]
     },
     "execution_count": 15,
     "metadata": {},
     "output_type": "execute_result"
    }
   ],
   "source": [
    "my_x_linked_analyser.mean_snp_depth"
   ]
  },
  {
   "cell_type": "code",
   "execution_count": 7,
   "metadata": {},
   "outputs": [],
   "source": [
    "my_autosomal_analyser = AutosomalAnalyser(\n",
    "    family_csv = '/Users/josephhalstead/Documents/NIPD/190215_NB551415_0010_AH5772AFXY/family_csvs/190215_NB551415_0010_AH5772AFXY_all_chr_qfiltered_anno_selected_FAM004.csv',\n",
    "    maternal_sample = '15M06223',\n",
    "    paternal_sample = '15M06222',\n",
    "    proband_sample = '15M01266',\n",
    "    plasma_sample = 'ffDNA5',\n",
    "    gene = 'CFTR',\n",
    "    min_distance_between_snps=200)"
   ]
  },
  {
   "cell_type": "code",
   "execution_count": 8,
   "metadata": {},
   "outputs": [],
   "source": [
    "my_autosomal_analyser.run_analysis()"
   ]
  },
  {
   "cell_type": "code",
   "execution_count": 9,
   "metadata": {},
   "outputs": [
    {
     "data": {
      "text/plain": [
       "[[0, 114498885, 115127814, 78, 'hapA', '7', 'CFTR'],\n",
       " [1, 115127814, 115527064, 45, 'hapA', '7', 'CFTR'],\n",
       " [2, 115527064, 118253529, 271, 'hapA', '7', 'CFTR']]"
      ]
     },
     "execution_count": 9,
     "metadata": {},
     "output_type": "execute_result"
    }
   ],
   "source": [
    "my_autosomal_analyser.type3_df_fwd_haplotype_blocks"
   ]
  },
  {
   "cell_type": "code",
   "execution_count": 10,
   "metadata": {},
   "outputs": [
    {
     "data": {
      "text/plain": [
       "[[0, 121076249, 120364028, 30, 'hapA', '7', 'CFTR'],\n",
       " [1, 120364028, 115460124, 393, 'hapA', '7', 'CFTR'],\n",
       " [2, 115460124, 115104563, 56, 'hapA', '7', 'CFTR']]"
      ]
     },
     "execution_count": 10,
     "metadata": {},
     "output_type": "execute_result"
    }
   ],
   "source": [
    "my_autosomal_analyser.type3_df_rev_haplotype_blocks"
   ]
  },
  {
   "cell_type": "code",
   "execution_count": 11,
   "metadata": {},
   "outputs": [
    {
     "data": {
      "text/plain": [
       "[[0, 114499932, 115360131, 25, 'hapA', '7', 'CFTR'],\n",
       " [1, 115360131, 115671967, 25, 'hapA', '7', 'CFTR'],\n",
       " [2, 115671967, 116435416, 25, 'hapA', '7', 'CFTR'],\n",
       " [3, 116435416, 116645880, 25, 'hapA', '7', 'CFTR'],\n",
       " [4, 116645880, 118383546, 33, 'hapA', '7', 'CFTR'],\n",
       " [5, 118383546, 118489583, 25, 'hapA', '7', 'CFTR'],\n",
       " [6, 118489583, 118659764, 25, 'hapA', '7', 'CFTR']]"
      ]
     },
     "execution_count": 11,
     "metadata": {},
     "output_type": "execute_result"
    }
   ],
   "source": [
    "my_autosomal_analyser.type4a_df_fwd_haplotype_blocks"
   ]
  },
  {
   "cell_type": "code",
   "execution_count": 12,
   "metadata": {},
   "outputs": [
    {
     "data": {
      "text/plain": [
       "[[0, 120994661, 118645034, 25, 'hapA', '7', 'CFTR'],\n",
       " [1, 118645034, 118454644, 25, 'hapA', '7', 'CFTR'],\n",
       " [2, 118454644, 117536359, 25, 'hapA', '7', 'CFTR'],\n",
       " [3, 117536359, 116458046, 39, 'hapA', '7', 'CFTR'],\n",
       " [4, 116458046, 116343338, 25, 'hapA', '7', 'CFTR'],\n",
       " [5, 116343338, 115623623, 25, 'hapA', '7', 'CFTR'],\n",
       " [6, 115623623, 114850065, 25, 'hapA', '7', 'CFTR']]"
      ]
     },
     "execution_count": 12,
     "metadata": {},
     "output_type": "execute_result"
    }
   ],
   "source": [
    "my_autosomal_analyser.type4a_df_rev_haplotype_blocks"
   ]
  },
  {
   "cell_type": "code",
   "execution_count": 13,
   "metadata": {},
   "outputs": [
    {
     "data": {
      "text/plain": [
       "[[0, 120920169, 118618057, 37, 'hapA', '7', 'CFTR'],\n",
       " [1, 118618057, 118197510, 25, 'hapA', '7', 'CFTR'],\n",
       " [2, 118197510, 118083653, 25, 'hapA', '7', 'CFTR'],\n",
       " [3, 118083653, 118043938, 25, 'hapA', '7', 'CFTR'],\n",
       " [4, 118043938, 118022990, 25, 'hapA', '7', 'CFTR'],\n",
       " [5, 118022990, 117917297, 31, 'hapB', '7', 'CFTR'],\n",
       " [6, 117917297, 117833054, 25, 'hapA', '7', 'CFTR'],\n",
       " [7, 117833054, 117700175, 25, 'hapA', '7', 'CFTR'],\n",
       " [8, 117700175, 116337352, 33, 'hapA', '7', 'CFTR'],\n",
       " [9, 116337352, 115520760, 29, 'hapB', '7', 'CFTR']]"
      ]
     },
     "execution_count": 13,
     "metadata": {},
     "output_type": "execute_result"
    }
   ],
   "source": [
    "my_autosomal_analyser.type4b_df_rev_haplotype_blocks"
   ]
  },
  {
   "cell_type": "code",
   "execution_count": 14,
   "metadata": {},
   "outputs": [
    {
     "data": {
      "text/plain": [
       "[[0, 114754867, 115956430, 26, 'hapB', '7', 'CFTR'],\n",
       " [1, 115956430, 117398604, 27, 'hapA', '7', 'CFTR'],\n",
       " [2, 117398604, 117799391, 29, 'hapA', '7', 'CFTR'],\n",
       " [3, 117799391, 117862554, 25, 'hapA', '7', 'CFTR'],\n",
       " [4, 117862554, 118009306, 26, 'hapB', '7', 'CFTR'],\n",
       " [5, 118009306, 118039106, 35, 'hapA', '7', 'CFTR'],\n",
       " [6, 118039106, 118069530, 25, 'hapA', '7', 'CFTR'],\n",
       " [7, 118069530, 118173708, 25, 'hapA', '7', 'CFTR'],\n",
       " [8, 118173708, 118600842, 25, 'hapA', '7', 'CFTR']]"
      ]
     },
     "execution_count": 14,
     "metadata": {},
     "output_type": "execute_result"
    }
   ],
   "source": [
    "my_autosomal_analyser.type4b_df_fwd_haplotype_blocks"
   ]
  },
  {
   "cell_type": "code",
   "execution_count": 16,
   "metadata": {},
   "outputs": [
    {
     "data": {
      "text/plain": [
       "333.427164722252"
      ]
     },
     "execution_count": 16,
     "metadata": {},
     "output_type": "execute_result"
    }
   ],
   "source": [
    "my_autosomal_analyser.mean_snp_depth"
   ]
  },
  {
   "cell_type": "code",
   "execution_count": null,
   "metadata": {},
   "outputs": [],
   "source": []
  }
 ],
 "metadata": {
  "kernelspec": {
   "display_name": "Python 3",
   "language": "python",
   "name": "python3"
  },
  "language_info": {
   "codemirror_mode": {
    "name": "ipython",
    "version": 3
   },
   "file_extension": ".py",
   "mimetype": "text/x-python",
   "name": "python",
   "nbconvert_exporter": "python",
   "pygments_lexer": "ipython3",
   "version": "3.6.8"
  }
 },
 "nbformat": 4,
 "nbformat_minor": 2
}
