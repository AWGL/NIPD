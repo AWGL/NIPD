{
 "cells": [
  {
   "cell_type": "code",
   "execution_count": 1,
   "metadata": {},
   "outputs": [],
   "source": [
    "from NIPDToolkit.xlinked_analysis import XLinkedAnalyser\n",
    "from NIPDToolkit.autosomal_analysis import AutosomalAnalyser"
   ]
  },
  {
   "cell_type": "code",
   "execution_count": 2,
   "metadata": {},
   "outputs": [],
   "source": [
    "family_csv = '/Users/josephhalstead/Documents/NIPD/181129_NB551415_0005_AHWW37BGX7/family_csvs/181129_NB551415_0005_AHWW37BGX7_all_chr_qfiltered_anno_selected_FAM001.csv'\n",
    "\n",
    "maternal_sample = '14M01888'\n",
    "proband_sample = '14M02709'\n",
    "plasma_sample = 'F1-15'\n",
    "\n",
    "gene = 'F8'\n",
    "\n",
    "min_genotype_depth = 20\n",
    "min_distance_between_snps = 200\n",
    "min_snps_per_block = 25"
   ]
  },
  {
   "cell_type": "code",
   "execution_count": 3,
   "metadata": {},
   "outputs": [],
   "source": [
    "my_x_linked_analyser = XLinkedAnalyser(family_csv=family_csv,\n",
    "                                      maternal_sample= maternal_sample,\n",
    "                                      proband_sample= proband_sample,\n",
    "                                      plasma_sample=plasma_sample,\n",
    "                                      gene=gene)"
   ]
  },
  {
   "cell_type": "code",
   "execution_count": 4,
   "metadata": {},
   "outputs": [],
   "source": [
    "my_x_linked_analyser.run_analysis()"
   ]
  },
  {
   "cell_type": "code",
   "execution_count": 5,
   "metadata": {},
   "outputs": [
    {
     "data": {
      "text/plain": [
       "[[0, 148338598, 148685623, 25, 'hapA', 'X', 'F8'],\n",
       " [1, 148685623, 149490984, 25, 'hapA', 'X', 'F8'],\n",
       " [2, 149490984, 149644030, 25, 'hapA', 'X', 'F8'],\n",
       " [3, 149644030, 150197118, 25, 'hapA', 'X', 'F8'],\n",
       " [4, 150197118, 150261734, 25, 'hapA', 'X', 'F8'],\n",
       " [5, 150261734, 150351783, 25, 'hapA', 'X', 'F8'],\n",
       " [6, 150351783, 150439608, 25, 'hapA', 'X', 'F8'],\n",
       " [7, 150439608, 150497850, 25, 'hapA', 'X', 'F8'],\n",
       " [8, 150497850, 150929566, 25, 'hapA', 'X', 'F8'],\n",
       " [9, 150929566, 150998498, 25, 'hapA', 'X', 'F8'],\n",
       " [10, 150998498, 151090219, 25, 'hapA', 'X', 'F8'],\n",
       " [11, 151090219, 151243277, 25, 'hapA', 'X', 'F8'],\n",
       " [12, 151243277, 151370339, 25, 'hapA', 'X', 'F8'],\n",
       " [13, 151370339, 152099691, 25, 'hapA', 'X', 'F8'],\n",
       " [14, 152099691, 152173319, 25, 'hapA', 'X', 'F8'],\n",
       " [15, 152173319, 152587423, 25, 'hapA', 'X', 'F8'],\n",
       " [16, 152587423, 152675931, 25, 'hapA', 'X', 'F8'],\n",
       " [17, 152675931, 152757163, 25, 'hapA', 'X', 'F8'],\n",
       " [18, 152757163, 152932194, 25, 'hapA', 'X', 'F8'],\n",
       " [19, 152932194, 153090060, 25, 'hapA', 'X', 'F8']]"
      ]
     },
     "execution_count": 5,
     "metadata": {},
     "output_type": "execute_result"
    }
   ],
   "source": [
    "my_x_linked_analyser.xlinked_df_fwd_haplotype_blocks"
   ]
  },
  {
   "cell_type": "code",
   "execution_count": 6,
   "metadata": {},
   "outputs": [
    {
     "data": {
      "text/plain": [
       "[[0, 153828373, 153061775, 25, 'hapA', 'X', 'F8'],\n",
       " [1, 153061775, 152791586, 25, 'hapA', 'X', 'F8'],\n",
       " [2, 152791586, 152724968, 25, 'hapA', 'X', 'F8'],\n",
       " [3, 152724968, 152610737, 25, 'hapA', 'X', 'F8'],\n",
       " [4, 152610737, 152197812, 25, 'hapA', 'X', 'F8'],\n",
       " [5, 152197812, 152147506, 25, 'hapA', 'X', 'F8'],\n",
       " [6, 152147506, 151457918, 25, 'hapA', 'X', 'F8'],\n",
       " [7, 151457918, 151332851, 25, 'hapA', 'X', 'F8'],\n",
       " [8, 151332851, 151141840, 25, 'hapA', 'X', 'F8'],\n",
       " [9, 151141840, 151067372, 25, 'hapA', 'X', 'F8'],\n",
       " [10, 151067372, 150961434, 25, 'hapA', 'X', 'F8'],\n",
       " [11, 150961434, 150894368, 25, 'hapA', 'X', 'F8'],\n",
       " [12, 150894368, 150476277, 25, 'hapA', 'X', 'F8'],\n",
       " [13, 150476277, 150400323, 25, 'hapA', 'X', 'F8'],\n",
       " [14, 150400323, 150317655, 25, 'hapA', 'X', 'F8'],\n",
       " [15, 150317655, 150240321, 25, 'hapA', 'X', 'F8'],\n",
       " [16, 150240321, 150088786, 25, 'hapA', 'X', 'F8'],\n",
       " [17, 150088786, 149554263, 25, 'hapA', 'X', 'F8'],\n",
       " [18, 149554263, 149467016, 25, 'hapA', 'X', 'F8'],\n",
       " [19, 149467016, 148544997, 25, 'hapA', 'X', 'F8']]"
      ]
     },
     "execution_count": 6,
     "metadata": {},
     "output_type": "execute_result"
    }
   ],
   "source": [
    "my_x_linked_analyser.xlinked_df_rev_haplotype_blocks"
   ]
  },
  {
   "cell_type": "code",
   "execution_count": 7,
   "metadata": {},
   "outputs": [
    {
     "data": {
      "text/plain": [
       "945.5092493774457"
      ]
     },
     "execution_count": 7,
     "metadata": {},
     "output_type": "execute_result"
    }
   ],
   "source": [
    "my_x_linked_analyser.mean_snp_depth"
   ]
  },
  {
   "cell_type": "code",
   "execution_count": 21,
   "metadata": {},
   "outputs": [],
   "source": [
    "my_autosomal_analyser = AutosomalAnalyser(\n",
    "    family_csv = '/Users/josephhalstead/Documents/NIPD/190215_NB551415_0010_AH5772AFXY/family_csvs/190215_NB551415_0010_AH5772AFXY_all_chr_qfiltered_anno_selected_FAM001.csv',\n",
    "    maternal_sample = '15M06223',\n",
    "    paternal_sample = '15M06222',\n",
    "    proband_sample = '15M01266',\n",
    "    plasma_sample = 'ffDNA28',\n",
    "    gene = 'CFTR',\n",
    "    min_distance_between_snps=200)"
   ]
  },
  {
   "cell_type": "code",
   "execution_count": 22,
   "metadata": {},
   "outputs": [],
   "source": [
    "my_autosomal_analyser.run_analysis()"
   ]
  },
  {
   "cell_type": "code",
   "execution_count": 23,
   "metadata": {},
   "outputs": [
    {
     "data": {
      "text/plain": [
       "[[0, 114498885, 114948351, 25, 'hapA', '7', 'CFTR'],\n",
       " [1, 114948351, 115120325, 46, 'hapA', '7', 'CFTR'],\n",
       " [2, 115120325, 115523163, 50, 'hapA', '7', 'CFTR'],\n",
       " [3, 115523163, 116141778, 26, 'hapA', '7', 'CFTR'],\n",
       " [4, 116141778, 117483137, 164, 'hapA', '7', 'CFTR'],\n",
       " [5, 117483137, 117701580, 40, 'hapA', '7', 'CFTR'],\n",
       " [6, 117701580, 118351004, 72, 'hapA', '7', 'CFTR'],\n",
       " [7, 118351004, 118608290, 31, 'hapA', '7', 'CFTR'],\n",
       " [8, 118608290, 120272149, 38, 'hapA', '7', 'CFTR'],\n",
       " [9, 120272149, 121018857, 34, 'hapA', '7', 'CFTR']]"
      ]
     },
     "execution_count": 23,
     "metadata": {},
     "output_type": "execute_result"
    }
   ],
   "source": [
    "my_autosomal_analyser.type3_df_fwd_haplotype_blocks"
   ]
  },
  {
   "cell_type": "code",
   "execution_count": 11,
   "metadata": {},
   "outputs": [
    {
     "data": {
      "text/plain": [
       "[[0, 121076249, 120973621, 25, 'hapA', '7', 'CFTR'],\n",
       " [1, 120973621, 119738873, 30, 'hapA', '7', 'CFTR'],\n",
       " [2, 119738873, 118574871, 37, 'hapA', '7', 'CFTR'],\n",
       " [3, 118574871, 118281410, 30, 'hapA', '7', 'CFTR'],\n",
       " [4, 118281410, 117701580, 69, 'hapA', '7', 'CFTR'],\n",
       " [5, 117701580, 117238379, 42, 'hapA', '7', 'CFTR'],\n",
       " [6, 117238379, 115823032, 174, 'hapA', '7', 'CFTR'],\n",
       " [7, 115823032, 115311330, 26, 'hapA', '7', 'CFTR'],\n",
       " [8, 115311330, 115109554, 45, 'hapA', '7', 'CFTR'],\n",
       " [9, 115109554, 114597508, 60, 'hapA', '7', 'CFTR']]"
      ]
     },
     "execution_count": 11,
     "metadata": {},
     "output_type": "execute_result"
    }
   ],
   "source": [
    "my_autosomal_analyser.type3_df_rev_haplotype_blocks"
   ]
  },
  {
   "cell_type": "code",
   "execution_count": 12,
   "metadata": {},
   "outputs": [
    {
     "data": {
      "text/plain": [
       "[[0, 114499932, 115360131, 25, 'hapA', '7', 'CFTR'],\n",
       " [1, 115360131, 115671967, 25, 'hapA', '7', 'CFTR'],\n",
       " [2, 115671967, 116435416, 25, 'hapA', '7', 'CFTR'],\n",
       " [3, 116435416, 116645880, 25, 'hapA', '7', 'CFTR'],\n",
       " [4, 116645880, 117496144, 25, 'hapA', '7', 'CFTR'],\n",
       " [5, 117496144, 118423031, 25, 'hapA', '7', 'CFTR'],\n",
       " [6, 118423031, 118602629, 25, 'hapA', '7', 'CFTR'],\n",
       " [7, 118602629, 119156903, 25, 'hapA', '7', 'CFTR']]"
      ]
     },
     "execution_count": 12,
     "metadata": {},
     "output_type": "execute_result"
    }
   ],
   "source": [
    "my_autosomal_analyser.type4a_df_fwd_haplotype_blocks"
   ]
  },
  {
   "cell_type": "code",
   "execution_count": 13,
   "metadata": {},
   "outputs": [
    {
     "data": {
      "text/plain": [
       "[[0, 120994661, 118645034, 25, 'hapA', '7', 'CFTR'],\n",
       " [1, 118645034, 118454644, 25, 'hapA', '7', 'CFTR'],\n",
       " [2, 118454644, 117536359, 25, 'hapA', '7', 'CFTR'],\n",
       " [3, 117536359, 117452215, 25, 'hapA', '7', 'CFTR'],\n",
       " [4, 117452215, 116438418, 25, 'hapA', '7', 'CFTR'],\n",
       " [5, 116438418, 115712403, 25, 'hapA', '7', 'CFTR'],\n",
       " [6, 115712403, 115377786, 25, 'hapA', '7', 'CFTR'],\n",
       " [7, 115377786, 114658220, 25, 'hapA', '7', 'CFTR']]"
      ]
     },
     "execution_count": 13,
     "metadata": {},
     "output_type": "execute_result"
    }
   ],
   "source": [
    "my_autosomal_analyser.type4a_df_rev_haplotype_blocks"
   ]
  },
  {
   "cell_type": "code",
   "execution_count": 14,
   "metadata": {},
   "outputs": [
    {
     "data": {
      "text/plain": [
       "[[0, 120920169, 119579473, 25, 'hapA', '7', 'CFTR'],\n",
       " [1, 119579473, 118219999, 25, 'hapA', '7', 'CFTR'],\n",
       " [2, 118219999, 118140523, 25, 'hapA', '7', 'CFTR'],\n",
       " [3, 118140523, 118056592, 25, 'hapA', '7', 'CFTR'],\n",
       " [4, 118056592, 118030666, 25, 'hapA', '7', 'CFTR'],\n",
       " [5, 118030666, 118010101, 25, 'hapA', '7', 'CFTR'],\n",
       " [6, 118010101, 117892444, 25, 'hapA', '7', 'CFTR'],\n",
       " [7, 117892444, 117818922, 25, 'hapA', '7', 'CFTR'],\n",
       " [8, 117818922, 117446092, 25, 'hapA', '7', 'CFTR'],\n",
       " [9, 117446092, 116346603, 25, 'hapA', '7', 'CFTR'],\n",
       " [10, 116346603, 115893362, 25, 'hapA', '7', 'CFTR']]"
      ]
     },
     "execution_count": 14,
     "metadata": {},
     "output_type": "execute_result"
    }
   ],
   "source": [
    "my_autosomal_analyser.type4b_df_rev_haplotype_blocks"
   ]
  },
  {
   "cell_type": "code",
   "execution_count": 15,
   "metadata": {},
   "outputs": [
    {
     "data": {
      "text/plain": [
       "[[0, 114754867, 115956129, 25, 'hapA', '7', 'CFTR'],\n",
       " [1, 115956129, 117382261, 25, 'hapA', '7', 'CFTR'],\n",
       " [2, 117382261, 117739400, 25, 'hapA', '7', 'CFTR'],\n",
       " [3, 117739400, 117848374, 25, 'hapA', '7', 'CFTR'],\n",
       " [4, 117848374, 117972361, 25, 'hapA', '7', 'CFTR'],\n",
       " [5, 117972361, 118025367, 25, 'hapA', '7', 'CFTR'],\n",
       " [6, 118025367, 118046104, 25, 'hapA', '7', 'CFTR'],\n",
       " [7, 118046104, 118093959, 25, 'hapA', '7', 'CFTR'],\n",
       " [8, 118093959, 118206100, 25, 'hapA', '7', 'CFTR'],\n",
       " [9, 118206100, 118618863, 25, 'hapA', '7', 'CFTR'],\n",
       " [10, 118618863, 120888382, 25, 'hapA', '7', 'CFTR']]"
      ]
     },
     "execution_count": 15,
     "metadata": {},
     "output_type": "execute_result"
    }
   ],
   "source": [
    "my_autosomal_analyser.type4b_df_fwd_haplotype_blocks"
   ]
  },
  {
   "cell_type": "code",
   "execution_count": 16,
   "metadata": {},
   "outputs": [
    {
     "data": {
      "text/plain": [
       "396.4798244675158"
      ]
     },
     "execution_count": 16,
     "metadata": {},
     "output_type": "execute_result"
    }
   ],
   "source": [
    "my_autosomal_analyser.mean_snp_depth"
   ]
  },
  {
   "cell_type": "code",
   "execution_count": 17,
   "metadata": {},
   "outputs": [],
   "source": [
    "import matplotlib.pyplot as plt\n",
    "import seaborn as sns\n",
    "import matplotlib.path as mpath\n",
    "import matplotlib.lines as mlines\n",
    "import matplotlib.patches as mpatches\n",
    "from matplotlib.collections import PatchCollection"
   ]
  },
  {
   "cell_type": "code",
   "execution_count": 59,
   "metadata": {},
   "outputs": [
    {
     "data": {
      "image/png": "[encoded data removed]",
      "text/plain": [
       "<Figure size 1440x720 with 1 Axes>"
      ]
     },
     "metadata": {
      "needs_background": "light"
     },
     "output_type": "display_data"
    }
   ],
   "source": [
    "gene_info = [[1, 2], [4,6], [10,15], [17,18]]\n",
    "\n",
    "gene_start = 114754867\n",
    "gene_end = 120888382\n",
    "fig, ax = plt.subplots(figsize=(20,10))\n",
    "\n",
    "ax.set_xlim(0, 20)\n",
    "\n",
    "# Draw gene\n",
    "i = 0\n",
    "while i <=  len(gene_info)-1:\n",
    "\n",
    "    exon_start = gene_info[i][0]\n",
    "    exon_end = gene_info[i][1]\n",
    "\n",
    "    if i != len(gene_info)-1:\n",
    "        \n",
    "        next_exon_start = gene_info[i+1][0]\n",
    "        \n",
    "        intron_start = exon_end\n",
    "        intron_end = next_exon_start\n",
    "        \n",
    "        intron_rect = mpatches.Rectangle((intron_start, 0.5), intron_end-intron_start, 0.001)\n",
    "        ax.add_patch(intron_rect)\n",
    "        \n",
    "    exon_rect = mpatches.Rectangle((exon_start, 0.45), exon_end-exon_start, 0.1)\n",
    "    ax.add_patch(exon_rect)\n",
    "    \n",
    "    i = i +1\n",
    "\n",
    "#\n",
    "    \n",
    "mum_blocksa = [[0.5,7,0,0,'hapA'], [7,9,0,0,'hapA'],[9,17.5,0,0,'hapA']] \n",
    "mum_blocksb = [[0.5,7,0,0,'hapA'], [7,9,0,0,'hapA'],[9,17.5,0,0,'hapA']] \n",
    "dad_blocks = [[7,0.5,0,0,'hapA'], [9,7,0,0,'hapA'],[17,9.5,0,0,'hapA']] \n",
    "\n",
    "\n",
    "for block in mum_blocksa:\n",
    "\n",
    "    if block[4] == 'hapA':\n",
    "\n",
    "        ax.arrow(block[0], 0.65, (block[1]-block[0]), 0, head_width=0.01, head_length=0.05, color='red')\n",
    "        \n",
    "\n",
    "for block in mum_blocksb:\n",
    "\n",
    "    if block[4] == 'hapA':\n",
    "\n",
    "        ax.arrow(block[0], 0.8, (block[1]-block[0]), 0, head_width=0.01, head_length=0.05, color='red')\n",
    "\n",
    "\n",
    "for block in dad_blocks:\n",
    "\n",
    "    if block[4] == 'hapA':\n",
    "\n",
    "        ax.arrow(block[0], 0.4, (block[1]-block[0]), 0, head_width=0.01, head_length=0.05, color='red')\n",
    "        "
   ]
  },
  {
   "cell_type": "code",
   "execution_count": 20,
   "metadata": {},
   "outputs": [
    {
     "data": {
      "text/html": [
       "<div>\n",
       "<style scoped>\n",
       "    .dataframe tbody tr th:only-of-type {\n",
       "        vertical-align: middle;\n",
       "    }\n",
       "\n",
       "    .dataframe tbody tr th {\n",
       "        vertical-align: top;\n",
       "    }\n",
       "\n",
       "    .dataframe thead th {\n",
       "        text-align: right;\n",
       "    }\n",
       "</style>\n",
       "<table border=\"1\" class=\"dataframe\">\n",
       "  <thead>\n",
       "    <tr style=\"text-align: right;\">\n",
       "      <th></th>\n",
       "      <th>CHROM</th>\n",
       "      <th>POS</th>\n",
       "      <th>REF</th>\n",
       "      <th>ALT</th>\n",
       "      <th>ID</th>\n",
       "      <th>GENE</th>\n",
       "      <th>sample_15M01266_GT</th>\n",
       "      <th>sample_15M01266_AD</th>\n",
       "      <th>sample_15M01266_DP</th>\n",
       "      <th>sample_15M06222_GT</th>\n",
       "      <th>...</th>\n",
       "      <th>sample_15M06223_AD_alt</th>\n",
       "      <th>sample_15M06222_AD_ref</th>\n",
       "      <th>sample_15M06222_AD_alt</th>\n",
       "      <th>sample_15M01266_AD_ref</th>\n",
       "      <th>sample_15M01266_AD_alt</th>\n",
       "      <th>sample_ffDNA28_AD_ref</th>\n",
       "      <th>sample_ffDNA28_AD_alt</th>\n",
       "      <th>type</th>\n",
       "      <th>hapA_count</th>\n",
       "      <th>hapB_count</th>\n",
       "    </tr>\n",
       "  </thead>\n",
       "  <tbody>\n",
       "    <tr>\n",
       "      <th>1419</th>\n",
       "      <td>7</td>\n",
       "      <td>114499932</td>\n",
       "      <td>T</td>\n",
       "      <td>C</td>\n",
       "      <td>.</td>\n",
       "      <td>CFTR</td>\n",
       "      <td>C/C</td>\n",
       "      <td>0,101</td>\n",
       "      <td>101.0</td>\n",
       "      <td>C/C</td>\n",
       "      <td>...</td>\n",
       "      <td>25</td>\n",
       "      <td>0</td>\n",
       "      <td>83</td>\n",
       "      <td>0</td>\n",
       "      <td>101</td>\n",
       "      <td>110</td>\n",
       "      <td>147</td>\n",
       "      <td>type_4a</td>\n",
       "      <td>147</td>\n",
       "      <td>110</td>\n",
       "    </tr>\n",
       "    <tr>\n",
       "      <th>1420</th>\n",
       "      <td>7</td>\n",
       "      <td>114537363</td>\n",
       "      <td>T</td>\n",
       "      <td>A</td>\n",
       "      <td>.</td>\n",
       "      <td>CFTR</td>\n",
       "      <td>A/A</td>\n",
       "      <td>0,85</td>\n",
       "      <td>85.0</td>\n",
       "      <td>A/A</td>\n",
       "      <td>...</td>\n",
       "      <td>33</td>\n",
       "      <td>0</td>\n",
       "      <td>49</td>\n",
       "      <td>0</td>\n",
       "      <td>85</td>\n",
       "      <td>101</td>\n",
       "      <td>195</td>\n",
       "      <td>type_4a</td>\n",
       "      <td>195</td>\n",
       "      <td>101</td>\n",
       "    </tr>\n",
       "    <tr>\n",
       "      <th>1421</th>\n",
       "      <td>7</td>\n",
       "      <td>114539933</td>\n",
       "      <td>A</td>\n",
       "      <td>C</td>\n",
       "      <td>.</td>\n",
       "      <td>CFTR</td>\n",
       "      <td>C/C</td>\n",
       "      <td>0,51</td>\n",
       "      <td>51.0</td>\n",
       "      <td>C/C</td>\n",
       "      <td>...</td>\n",
       "      <td>19</td>\n",
       "      <td>0</td>\n",
       "      <td>50</td>\n",
       "      <td>0</td>\n",
       "      <td>51</td>\n",
       "      <td>47</td>\n",
       "      <td>93</td>\n",
       "      <td>type_4a</td>\n",
       "      <td>93</td>\n",
       "      <td>47</td>\n",
       "    </tr>\n",
       "    <tr>\n",
       "      <th>1422</th>\n",
       "      <td>7</td>\n",
       "      <td>114559777</td>\n",
       "      <td>G</td>\n",
       "      <td>A</td>\n",
       "      <td>.</td>\n",
       "      <td>CFTR</td>\n",
       "      <td>G/G</td>\n",
       "      <td>41,0</td>\n",
       "      <td>41.0</td>\n",
       "      <td>G/G</td>\n",
       "      <td>...</td>\n",
       "      <td>24</td>\n",
       "      <td>41</td>\n",
       "      <td>0</td>\n",
       "      <td>41</td>\n",
       "      <td>0</td>\n",
       "      <td>92</td>\n",
       "      <td>45</td>\n",
       "      <td>type_4a</td>\n",
       "      <td>92</td>\n",
       "      <td>45</td>\n",
       "    </tr>\n",
       "    <tr>\n",
       "      <th>1438</th>\n",
       "      <td>7</td>\n",
       "      <td>114642868</td>\n",
       "      <td>A</td>\n",
       "      <td>G</td>\n",
       "      <td>.</td>\n",
       "      <td>CFTR</td>\n",
       "      <td>A/A</td>\n",
       "      <td>67,0</td>\n",
       "      <td>67.0</td>\n",
       "      <td>A/A</td>\n",
       "      <td>...</td>\n",
       "      <td>42</td>\n",
       "      <td>46</td>\n",
       "      <td>0</td>\n",
       "      <td>67</td>\n",
       "      <td>0</td>\n",
       "      <td>187</td>\n",
       "      <td>108</td>\n",
       "      <td>type_4a</td>\n",
       "      <td>187</td>\n",
       "      <td>108</td>\n",
       "    </tr>\n",
       "  </tbody>\n",
       "</table>\n",
       "<p>5 rows × 33 columns</p>\n",
       "</div>"
      ],
      "text/plain": [
       "     CHROM        POS REF ALT ID  GENE sample_15M01266_GT sample_15M01266_AD  \\\n",
       "1419     7  114499932   T   C  .  CFTR                C/C              0,101   \n",
       "1420     7  114537363   T   A  .  CFTR                A/A               0,85   \n",
       "1421     7  114539933   A   C  .  CFTR                C/C               0,51   \n",
       "1422     7  114559777   G   A  .  CFTR                G/G               41,0   \n",
       "1438     7  114642868   A   G  .  CFTR                A/A               67,0   \n",
       "\n",
       "      sample_15M01266_DP sample_15M06222_GT    ...     sample_15M06223_AD_alt  \\\n",
       "1419               101.0                C/C    ...                         25   \n",
       "1420                85.0                A/A    ...                         33   \n",
       "1421                51.0                C/C    ...                         19   \n",
       "1422                41.0                G/G    ...                         24   \n",
       "1438                67.0                A/A    ...                         42   \n",
       "\n",
       "      sample_15M06222_AD_ref sample_15M06222_AD_alt sample_15M01266_AD_ref  \\\n",
       "1419                       0                     83                      0   \n",
       "1420                       0                     49                      0   \n",
       "1421                       0                     50                      0   \n",
       "1422                      41                      0                     41   \n",
       "1438                      46                      0                     67   \n",
       "\n",
       "      sample_15M01266_AD_alt sample_ffDNA28_AD_ref sample_ffDNA28_AD_alt  \\\n",
       "1419                     101                   110                   147   \n",
       "1420                      85                   101                   195   \n",
       "1421                      51                    47                    93   \n",
       "1422                       0                    92                    45   \n",
       "1438                       0                   187                   108   \n",
       "\n",
       "         type hapA_count hapB_count  \n",
       "1419  type_4a        147        110  \n",
       "1420  type_4a        195        101  \n",
       "1421  type_4a         93         47  \n",
       "1422  type_4a         92         45  \n",
       "1438  type_4a        187        108  \n",
       "\n",
       "[5 rows x 33 columns]"
      ]
     },
     "execution_count": 20,
     "metadata": {},
     "output_type": "execute_result"
    }
   ],
   "source": [
    "my_autosomal_analyser.type4a_df.head()"
   ]
  },
  {
   "cell_type": "code",
   "execution_count": null,
   "metadata": {},
   "outputs": [],
   "source": []
  },
  {
   "cell_type": "code",
   "execution_count": null,
   "metadata": {},
   "outputs": [],
   "source": []
  }
 ],
 "metadata": {
  "kernelspec": {
   "display_name": "Python 3",
   "language": "python",
   "name": "python3"
  },
  "language_info": {
   "codemirror_mode": {
    "name": "ipython",
    "version": 3
   },
   "file_extension": ".py",
   "mimetype": "text/x-python",
   "name": "python",
   "nbconvert_exporter": "python",
   "pygments_lexer": "ipython3",
   "version": "3.6.8"
  }
 },
 "nbformat": 4,
 "nbformat_minor": 2
}
